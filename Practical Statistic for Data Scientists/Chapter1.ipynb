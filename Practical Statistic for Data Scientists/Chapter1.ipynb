{
 "cells": [
  {
   "cell_type": "markdown",
   "metadata": {},
   "source": [
    "**Exploratory Data Analysis** <br>\n",
    "\n",
    "*Data types* - Help to determine the type of visual display, data analysis, or statical model. The data type for a variable determines how the software will handle computations for variable. <br>\n",
    "- Numeric:",
    " Continuous, Discrete\n",
    "- Categorical:",
    " Binary, Ordinal"
   ]
  },
  {
   "cell_type": "markdown",
   "metadata": {},
   "source": []
  }
 ],
 "metadata": {
  "language_info": {
   "name": "python"
  }
 },
 "nbformat": 4,
 "nbformat_minor": 2
}
